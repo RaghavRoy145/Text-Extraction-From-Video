{
 "cells": [
  {
   "cell_type": "code",
   "execution_count": 5,
   "metadata": {},
   "outputs": [],
   "source": [
    "import sys\n",
    "import os\n",
    "from PIL import Image\n",
    "from wand.image import Image as Img\n",
    "import pytesseract\n",
    "import nltk\n",
    "from nltk.tokenize import word_tokenize\n",
    "from nltk.tag import pos_tag\n",
    "import numpy as np\n",
    "import cv2"
   ]
  },
  {
   "cell_type": "code",
   "execution_count": 6,
   "metadata": {},
   "outputs": [
    {
     "name": "stdout",
     "output_type": "stream",
     "text": [
      "Extracting frames..../image_frames/frame0.png\n"
     ]
    }
   ],
   "source": [
    "#create directory for frames\n",
    "if not os.path.exists('image_frames'):\n",
    "    os.makedirs('image_frames')\n",
    "\n",
    "#create video path for sample video\n",
    "test_vid=cv2.VideoCapture('testvideo.mp4')\n",
    "\n",
    "#start index for frames\n",
    "index=0\n",
    "while test_vid.isOpened():\n",
    "    ret,frame=test_vid.read()\n",
    "    if not ret:\n",
    "        break\n",
    "    \n",
    "#assign name to the files\n",
    "    name='./image_frames/frame'+str(index)+'.png'\n",
    "    print('Extracting frames...' + name)\n",
    "    cv2.imwrite(name, frame)\n",
    "    index+=1\n",
    "    if cv2.waitKey(10) & 0xFF == ord('q'):\n",
    "        break\n",
    "    test_vid.release()\n",
    "    cv2.destroyAllWindows()\n",
    "\n",
    "\n",
    "\n"
   ]
  },
  {
   "cell_type": "code",
   "execution_count": 7,
   "metadata": {
    "scrolled": true
   },
   "outputs": [
    {
     "name": "stdout",
     "output_type": "stream",
     "text": [
      "text from video...\n",
      " \n",
      "\n",
      "MONIQUE CANTO-4PERBER\n",
      "\n",
      "DICIONARIO\n",
      "DE ETICAE\n",
      "\n",
      " \n",
      "\n",
      "m+ [pL fers\n",
      "\n",
      "| ye\n",
      "\n",
      "ide\n",
      "ONY NI OIDIC\n",
      "\n",
      " \n",
      "\n",
      " \n",
      "\n",
      "VEOLICS Sopguoys\\\n",
      "\n",
      "FILOSOFIA\n",
      "MORAL\n",
      "\n",
      "DICIONARIO\n",
      "DE\n",
      "BIOETICA\n",
      "\n",
      "DICIONARIO\n",
      "DE\n",
      "\n",
      "BIOETICA\n",
      "\f",
      "\n"
     ]
    }
   ],
   "source": [
    "print(\"text from video...\")\n",
    "\n",
    "#using just the first frame, can be changed to multiple by adding a loop\n",
    "demo= Image.open(\"./image_frames/frame0.png\")\n",
    "text=pytesseract.image_to_string(demo, lang='eng')\n",
    "print(text)"
   ]
  },
  {
   "cell_type": "code",
   "execution_count": null,
   "metadata": {},
   "outputs": [],
   "source": []
  }
 ],
 "metadata": {
  "kernelspec": {
   "display_name": "raghav",
   "language": "python",
   "name": "machine"
  },
  "language_info": {
   "codemirror_mode": {
    "name": "ipython",
    "version": 3
   },
   "file_extension": ".py",
   "mimetype": "text/x-python",
   "name": "python",
   "nbconvert_exporter": "python",
   "pygments_lexer": "ipython3",
   "version": "3.7.9"
  }
 },
 "nbformat": 4,
 "nbformat_minor": 4
}
